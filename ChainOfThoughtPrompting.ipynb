{
  "nbformat": 4,
  "nbformat_minor": 0,
  "metadata": {
    "colab": {
      "provenance": []
    },
    "kernelspec": {
      "name": "python3",
      "display_name": "Python 3"
    },
    "language_info": {
      "name": "python"
    }
  },
  "cells": [
    {
      "cell_type": "code",
      "execution_count": 1,
      "metadata": {
        "colab": {
          "base_uri": "https://localhost:8080/"
        },
        "id": "1dbdqRTbz1nb",
        "outputId": "2b27089b-64a1-4837-84f3-e1dd5e8f550a"
      },
      "outputs": [
        {
          "output_type": "stream",
          "name": "stdout",
          "text": [
            "Collecting langchain\n",
            "  Downloading langchain-0.2.14-py3-none-any.whl.metadata (7.1 kB)\n",
            "Collecting groq\n",
            "  Downloading groq-0.9.0-py3-none-any.whl.metadata (13 kB)\n",
            "Requirement already satisfied: PyYAML>=5.3 in /usr/local/lib/python3.10/dist-packages (from langchain) (6.0.2)\n",
            "Requirement already satisfied: SQLAlchemy<3,>=1.4 in /usr/local/lib/python3.10/dist-packages (from langchain) (2.0.32)\n",
            "Requirement already satisfied: aiohttp<4.0.0,>=3.8.3 in /usr/local/lib/python3.10/dist-packages (from langchain) (3.10.5)\n",
            "Requirement already satisfied: async-timeout<5.0.0,>=4.0.0 in /usr/local/lib/python3.10/dist-packages (from langchain) (4.0.3)\n",
            "Collecting langchain-core<0.3.0,>=0.2.32 (from langchain)\n",
            "  Downloading langchain_core-0.2.34-py3-none-any.whl.metadata (6.2 kB)\n",
            "Collecting langchain-text-splitters<0.3.0,>=0.2.0 (from langchain)\n",
            "  Downloading langchain_text_splitters-0.2.2-py3-none-any.whl.metadata (2.1 kB)\n",
            "Collecting langsmith<0.2.0,>=0.1.17 (from langchain)\n",
            "  Downloading langsmith-0.1.104-py3-none-any.whl.metadata (13 kB)\n",
            "Requirement already satisfied: numpy<2,>=1 in /usr/local/lib/python3.10/dist-packages (from langchain) (1.26.4)\n",
            "Requirement already satisfied: pydantic<3,>=1 in /usr/local/lib/python3.10/dist-packages (from langchain) (2.8.2)\n",
            "Requirement already satisfied: requests<3,>=2 in /usr/local/lib/python3.10/dist-packages (from langchain) (2.32.3)\n",
            "Collecting tenacity!=8.4.0,<9.0.0,>=8.1.0 (from langchain)\n",
            "  Downloading tenacity-8.5.0-py3-none-any.whl.metadata (1.2 kB)\n",
            "Requirement already satisfied: anyio<5,>=3.5.0 in /usr/local/lib/python3.10/dist-packages (from groq) (3.7.1)\n",
            "Requirement already satisfied: distro<2,>=1.7.0 in /usr/lib/python3/dist-packages (from groq) (1.7.0)\n",
            "Collecting httpx<1,>=0.23.0 (from groq)\n",
            "  Downloading httpx-0.27.0-py3-none-any.whl.metadata (7.2 kB)\n",
            "Requirement already satisfied: sniffio in /usr/local/lib/python3.10/dist-packages (from groq) (1.3.1)\n",
            "Requirement already satisfied: typing-extensions<5,>=4.7 in /usr/local/lib/python3.10/dist-packages (from groq) (4.12.2)\n",
            "Requirement already satisfied: aiohappyeyeballs>=2.3.0 in /usr/local/lib/python3.10/dist-packages (from aiohttp<4.0.0,>=3.8.3->langchain) (2.4.0)\n",
            "Requirement already satisfied: aiosignal>=1.1.2 in /usr/local/lib/python3.10/dist-packages (from aiohttp<4.0.0,>=3.8.3->langchain) (1.3.1)\n",
            "Requirement already satisfied: attrs>=17.3.0 in /usr/local/lib/python3.10/dist-packages (from aiohttp<4.0.0,>=3.8.3->langchain) (24.2.0)\n",
            "Requirement already satisfied: frozenlist>=1.1.1 in /usr/local/lib/python3.10/dist-packages (from aiohttp<4.0.0,>=3.8.3->langchain) (1.4.1)\n",
            "Requirement already satisfied: multidict<7.0,>=4.5 in /usr/local/lib/python3.10/dist-packages (from aiohttp<4.0.0,>=3.8.3->langchain) (6.0.5)\n",
            "Requirement already satisfied: yarl<2.0,>=1.0 in /usr/local/lib/python3.10/dist-packages (from aiohttp<4.0.0,>=3.8.3->langchain) (1.9.4)\n",
            "Requirement already satisfied: idna>=2.8 in /usr/local/lib/python3.10/dist-packages (from anyio<5,>=3.5.0->groq) (3.7)\n",
            "Requirement already satisfied: exceptiongroup in /usr/local/lib/python3.10/dist-packages (from anyio<5,>=3.5.0->groq) (1.2.2)\n",
            "Requirement already satisfied: certifi in /usr/local/lib/python3.10/dist-packages (from httpx<1,>=0.23.0->groq) (2024.7.4)\n",
            "Collecting httpcore==1.* (from httpx<1,>=0.23.0->groq)\n",
            "  Downloading httpcore-1.0.5-py3-none-any.whl.metadata (20 kB)\n",
            "Collecting h11<0.15,>=0.13 (from httpcore==1.*->httpx<1,>=0.23.0->groq)\n",
            "  Downloading h11-0.14.0-py3-none-any.whl.metadata (8.2 kB)\n",
            "Collecting jsonpatch<2.0,>=1.33 (from langchain-core<0.3.0,>=0.2.32->langchain)\n",
            "  Downloading jsonpatch-1.33-py2.py3-none-any.whl.metadata (3.0 kB)\n",
            "Requirement already satisfied: packaging<25,>=23.2 in /usr/local/lib/python3.10/dist-packages (from langchain-core<0.3.0,>=0.2.32->langchain) (24.1)\n",
            "Collecting orjson<4.0.0,>=3.9.14 (from langsmith<0.2.0,>=0.1.17->langchain)\n",
            "  Downloading orjson-3.10.7-cp310-cp310-manylinux_2_17_x86_64.manylinux2014_x86_64.whl.metadata (50 kB)\n",
            "\u001b[2K     \u001b[90m━━━━━━━━━━━━━━━━━━━━━━━━━━━━━━━━━━━━━━━━\u001b[0m \u001b[32m50.4/50.4 kB\u001b[0m \u001b[31m1.8 MB/s\u001b[0m eta \u001b[36m0:00:00\u001b[0m\n",
            "\u001b[?25hRequirement already satisfied: annotated-types>=0.4.0 in /usr/local/lib/python3.10/dist-packages (from pydantic<3,>=1->langchain) (0.7.0)\n",
            "Requirement already satisfied: pydantic-core==2.20.1 in /usr/local/lib/python3.10/dist-packages (from pydantic<3,>=1->langchain) (2.20.1)\n",
            "Requirement already satisfied: charset-normalizer<4,>=2 in /usr/local/lib/python3.10/dist-packages (from requests<3,>=2->langchain) (3.3.2)\n",
            "Requirement already satisfied: urllib3<3,>=1.21.1 in /usr/local/lib/python3.10/dist-packages (from requests<3,>=2->langchain) (2.0.7)\n",
            "Requirement already satisfied: greenlet!=0.4.17 in /usr/local/lib/python3.10/dist-packages (from SQLAlchemy<3,>=1.4->langchain) (3.0.3)\n",
            "Collecting jsonpointer>=1.9 (from jsonpatch<2.0,>=1.33->langchain-core<0.3.0,>=0.2.32->langchain)\n",
            "  Downloading jsonpointer-3.0.0-py2.py3-none-any.whl.metadata (2.3 kB)\n",
            "Downloading langchain-0.2.14-py3-none-any.whl (997 kB)\n",
            "\u001b[2K   \u001b[90m━━━━━━━━━━━━━━━━━━━━━━━━━━━━━━━━━━━━━━━━\u001b[0m \u001b[32m997.8/997.8 kB\u001b[0m \u001b[31m39.5 MB/s\u001b[0m eta \u001b[36m0:00:00\u001b[0m\n",
            "\u001b[?25hDownloading groq-0.9.0-py3-none-any.whl (103 kB)\n",
            "\u001b[2K   \u001b[90m━━━━━━━━━━━━━━━━━━━━━━━━━━━━━━━━━━━━━━━━\u001b[0m \u001b[32m103.5/103.5 kB\u001b[0m \u001b[31m7.2 MB/s\u001b[0m eta \u001b[36m0:00:00\u001b[0m\n",
            "\u001b[?25hDownloading httpx-0.27.0-py3-none-any.whl (75 kB)\n",
            "\u001b[2K   \u001b[90m━━━━━━━━━━━━━━━━━━━━━━━━━━━━━━━━━━━━━━━━\u001b[0m \u001b[32m75.6/75.6 kB\u001b[0m \u001b[31m5.3 MB/s\u001b[0m eta \u001b[36m0:00:00\u001b[0m\n",
            "\u001b[?25hDownloading httpcore-1.0.5-py3-none-any.whl (77 kB)\n",
            "\u001b[2K   \u001b[90m━━━━━━━━━━━━━━━━━━━━━━━━━━━━━━━━━━━━━━━━\u001b[0m \u001b[32m77.9/77.9 kB\u001b[0m \u001b[31m6.1 MB/s\u001b[0m eta \u001b[36m0:00:00\u001b[0m\n",
            "\u001b[?25hDownloading langchain_core-0.2.34-py3-none-any.whl (393 kB)\n",
            "\u001b[2K   \u001b[90m━━━━━━━━━━━━━━━━━━━━━━━━━━━━━━━━━━━━━━━━\u001b[0m \u001b[32m393.9/393.9 kB\u001b[0m \u001b[31m20.9 MB/s\u001b[0m eta \u001b[36m0:00:00\u001b[0m\n",
            "\u001b[?25hDownloading langchain_text_splitters-0.2.2-py3-none-any.whl (25 kB)\n",
            "Downloading langsmith-0.1.104-py3-none-any.whl (149 kB)\n",
            "\u001b[2K   \u001b[90m━━━━━━━━━━━━━━━━━━━━━━━━━━━━━━━━━━━━━━━━\u001b[0m \u001b[32m149.1/149.1 kB\u001b[0m \u001b[31m10.0 MB/s\u001b[0m eta \u001b[36m0:00:00\u001b[0m\n",
            "\u001b[?25hDownloading tenacity-8.5.0-py3-none-any.whl (28 kB)\n",
            "Downloading jsonpatch-1.33-py2.py3-none-any.whl (12 kB)\n",
            "Downloading orjson-3.10.7-cp310-cp310-manylinux_2_17_x86_64.manylinux2014_x86_64.whl (141 kB)\n",
            "\u001b[2K   \u001b[90m━━━━━━━━━━━━━━━━━━━━━━━━━━━━━━━━━━━━━━━━\u001b[0m \u001b[32m141.9/141.9 kB\u001b[0m \u001b[31m11.2 MB/s\u001b[0m eta \u001b[36m0:00:00\u001b[0m\n",
            "\u001b[?25hDownloading h11-0.14.0-py3-none-any.whl (58 kB)\n",
            "\u001b[2K   \u001b[90m━━━━━━━━━━━━━━━━━━━━━━━━━━━━━━━━━━━━━━━━\u001b[0m \u001b[32m58.3/58.3 kB\u001b[0m \u001b[31m4.4 MB/s\u001b[0m eta \u001b[36m0:00:00\u001b[0m\n",
            "\u001b[?25hDownloading jsonpointer-3.0.0-py2.py3-none-any.whl (7.6 kB)\n",
            "Installing collected packages: tenacity, orjson, jsonpointer, h11, jsonpatch, httpcore, httpx, langsmith, groq, langchain-core, langchain-text-splitters, langchain\n",
            "  Attempting uninstall: tenacity\n",
            "    Found existing installation: tenacity 9.0.0\n",
            "    Uninstalling tenacity-9.0.0:\n",
            "      Successfully uninstalled tenacity-9.0.0\n",
            "Successfully installed groq-0.9.0 h11-0.14.0 httpcore-1.0.5 httpx-0.27.0 jsonpatch-1.33 jsonpointer-3.0.0 langchain-0.2.14 langchain-core-0.2.34 langchain-text-splitters-0.2.2 langsmith-0.1.104 orjson-3.10.7 tenacity-8.5.0\n",
            "Collecting langchain-groq\n",
            "  Downloading langchain_groq-0.1.9-py3-none-any.whl.metadata (2.9 kB)\n",
            "Requirement already satisfied: groq in /usr/local/lib/python3.10/dist-packages (0.9.0)\n",
            "Requirement already satisfied: langchain-core<0.3.0,>=0.2.26 in /usr/local/lib/python3.10/dist-packages (from langchain-groq) (0.2.34)\n",
            "Requirement already satisfied: anyio<5,>=3.5.0 in /usr/local/lib/python3.10/dist-packages (from groq) (3.7.1)\n",
            "Requirement already satisfied: distro<2,>=1.7.0 in /usr/lib/python3/dist-packages (from groq) (1.7.0)\n",
            "Requirement already satisfied: httpx<1,>=0.23.0 in /usr/local/lib/python3.10/dist-packages (from groq) (0.27.0)\n",
            "Requirement already satisfied: pydantic<3,>=1.9.0 in /usr/local/lib/python3.10/dist-packages (from groq) (2.8.2)\n",
            "Requirement already satisfied: sniffio in /usr/local/lib/python3.10/dist-packages (from groq) (1.3.1)\n",
            "Requirement already satisfied: typing-extensions<5,>=4.7 in /usr/local/lib/python3.10/dist-packages (from groq) (4.12.2)\n",
            "Requirement already satisfied: idna>=2.8 in /usr/local/lib/python3.10/dist-packages (from anyio<5,>=3.5.0->groq) (3.7)\n",
            "Requirement already satisfied: exceptiongroup in /usr/local/lib/python3.10/dist-packages (from anyio<5,>=3.5.0->groq) (1.2.2)\n",
            "Requirement already satisfied: certifi in /usr/local/lib/python3.10/dist-packages (from httpx<1,>=0.23.0->groq) (2024.7.4)\n",
            "Requirement already satisfied: httpcore==1.* in /usr/local/lib/python3.10/dist-packages (from httpx<1,>=0.23.0->groq) (1.0.5)\n",
            "Requirement already satisfied: h11<0.15,>=0.13 in /usr/local/lib/python3.10/dist-packages (from httpcore==1.*->httpx<1,>=0.23.0->groq) (0.14.0)\n",
            "Requirement already satisfied: PyYAML>=5.3 in /usr/local/lib/python3.10/dist-packages (from langchain-core<0.3.0,>=0.2.26->langchain-groq) (6.0.2)\n",
            "Requirement already satisfied: jsonpatch<2.0,>=1.33 in /usr/local/lib/python3.10/dist-packages (from langchain-core<0.3.0,>=0.2.26->langchain-groq) (1.33)\n",
            "Requirement already satisfied: langsmith<0.2.0,>=0.1.75 in /usr/local/lib/python3.10/dist-packages (from langchain-core<0.3.0,>=0.2.26->langchain-groq) (0.1.104)\n",
            "Requirement already satisfied: packaging<25,>=23.2 in /usr/local/lib/python3.10/dist-packages (from langchain-core<0.3.0,>=0.2.26->langchain-groq) (24.1)\n",
            "Requirement already satisfied: tenacity!=8.4.0,<9.0.0,>=8.1.0 in /usr/local/lib/python3.10/dist-packages (from langchain-core<0.3.0,>=0.2.26->langchain-groq) (8.5.0)\n",
            "Requirement already satisfied: annotated-types>=0.4.0 in /usr/local/lib/python3.10/dist-packages (from pydantic<3,>=1.9.0->groq) (0.7.0)\n",
            "Requirement already satisfied: pydantic-core==2.20.1 in /usr/local/lib/python3.10/dist-packages (from pydantic<3,>=1.9.0->groq) (2.20.1)\n",
            "Requirement already satisfied: jsonpointer>=1.9 in /usr/local/lib/python3.10/dist-packages (from jsonpatch<2.0,>=1.33->langchain-core<0.3.0,>=0.2.26->langchain-groq) (3.0.0)\n",
            "Requirement already satisfied: orjson<4.0.0,>=3.9.14 in /usr/local/lib/python3.10/dist-packages (from langsmith<0.2.0,>=0.1.75->langchain-core<0.3.0,>=0.2.26->langchain-groq) (3.10.7)\n",
            "Requirement already satisfied: requests<3,>=2 in /usr/local/lib/python3.10/dist-packages (from langsmith<0.2.0,>=0.1.75->langchain-core<0.3.0,>=0.2.26->langchain-groq) (2.32.3)\n",
            "Requirement already satisfied: charset-normalizer<4,>=2 in /usr/local/lib/python3.10/dist-packages (from requests<3,>=2->langsmith<0.2.0,>=0.1.75->langchain-core<0.3.0,>=0.2.26->langchain-groq) (3.3.2)\n",
            "Requirement already satisfied: urllib3<3,>=1.21.1 in /usr/local/lib/python3.10/dist-packages (from requests<3,>=2->langsmith<0.2.0,>=0.1.75->langchain-core<0.3.0,>=0.2.26->langchain-groq) (2.0.7)\n",
            "Downloading langchain_groq-0.1.9-py3-none-any.whl (14 kB)\n",
            "Installing collected packages: langchain-groq\n",
            "Successfully installed langchain-groq-0.1.9\n"
          ]
        }
      ],
      "source": [
        "!pip install langchain groq\n",
        "!pip install langchain-groq groq"
      ]
    },
    {
      "cell_type": "code",
      "source": [
        "from langchain_groq import ChatGroq\n",
        "from langchain.chains import LLMChain, SimpleSequentialChain\n",
        "from langchain_core.messages import AIMessage, HumanMessage, SystemMessage\n",
        "from langchain.prompts import Prompt\n",
        "from langchain import PromptTemplate, LLMChain\n",
        "import os\n",
        "\n",
        "# Set your Groq API key\n",
        "os.environ[\"GROQ_API_KEY\"] = \"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\"\n",
        "\n",
        "# Initialize the Groq LLM\n",
        "llm = ChatGroq(model_name=\"mixtral-8x7b-32768\")"
      ],
      "metadata": {
        "id": "V-cHoI0Bz-FK"
      },
      "execution_count": 2,
      "outputs": []
    },
    {
      "cell_type": "markdown",
      "source": [
        "##Question 1: Chain-of-Thought Prompting\n",
        "\n",
        "Implement a Chain-of-Thought prompting system to solve word problems. Your system should break down the problem-solving process into steps and show its reasoning.\n",
        "\n",
        "Task:\n",
        "\n",
        "● Create a function that takes a word problem as input.\n",
        "\n",
        "● Use the OpenAI API or any other LLM API to generate a step-by-step solution.\n",
        "\n",
        "● The output should show each step of the reasoning process.\n",
        "\n",
        "● Test your function with at least two word problems of varying complexity.\n",
        "\n",
        "Example word problem: \"A baker has 150 eggs. If each cake requires 3 eggs and each cookie\n",
        "requires 2 eggs, how many cakes and cookies can the baker make if they want to use all the\n",
        "eggs and make an equal number of each?\""
      ],
      "metadata": {
        "id": "QKn2DFxc8Nww"
      }
    },
    {
      "cell_type": "code",
      "source": [
        "#Setup HumanMessage, SystemMessage for simple prompt.\n",
        "example = \"\"\"\n",
        "Question:  A gardener has 50 seeds. If each flower needs 2 seeds and each shrub needs 3 seeds, how many flowers and shrubs can the gardener plant if they want to use all the seeds and plant an equal number of each?\n",
        "Answer: 10.\n",
        "\n",
        "Question: A library has 45 books. If they lent out 12 books and then received 8 more as donations, how many books does the library have now?\n",
        "Answer:\n",
        "\"\"\"\n",
        "human_message = HumanMessage(content=example)\n",
        "system_message = SystemMessage(content=\"You are helpful assistant.\")\n",
        "\n",
        "\n",
        "new_prompt = (system_message + human_message)\n",
        "\n",
        "print (f\"Prompt: {new_prompt}\")\n",
        "\n",
        "chain = LLMChain(llm=llm, prompt=new_prompt)\n",
        "reponse = chain.run({})\n",
        "print(f\"Response: {reponse}\")\n"
      ],
      "metadata": {
        "colab": {
          "base_uri": "https://localhost:8080/"
        },
        "id": "7V647t_30dYw",
        "outputId": "71a86783-2b78-4bde-a915-41b5617f37af"
      },
      "execution_count": 3,
      "outputs": [
        {
          "output_type": "stream",
          "name": "stdout",
          "text": [
            "Prompt: input_variables=[] messages=[SystemMessage(content='You are helpful assistant.'), HumanMessage(content='\\nQuestion:  A gardener has 50 seeds. If each flower needs 2 seeds and each shrub needs 3 seeds, how many flowers and shrubs can the gardener plant if they want to use all the seeds and plant an equal number of each?\\nAnswer: 10.\\n\\nQuestion: A library has 45 books. If they lent out 12 books and then received 8 more as donations, how many books does the library have now?\\nAnswer:\\n')]\n"
          ]
        },
        {
          "output_type": "stream",
          "name": "stderr",
          "text": [
            "/usr/local/lib/python3.10/dist-packages/langchain_core/_api/deprecation.py:141: LangChainDeprecationWarning: The class `LLMChain` was deprecated in LangChain 0.1.17 and will be removed in 1.0. Use RunnableSequence, e.g., `prompt | llm` instead.\n",
            "  warn_deprecated(\n",
            "/usr/local/lib/python3.10/dist-packages/langchain_core/_api/deprecation.py:141: LangChainDeprecationWarning: The method `Chain.run` was deprecated in langchain 0.1.0 and will be removed in 1.0. Use invoke instead.\n",
            "  warn_deprecated(\n"
          ]
        },
        {
          "output_type": "stream",
          "name": "stdout",
          "text": [
            "Response: The library has 41 books now.\n",
            "\n",
            "Here's the step-by-step breakdown:\n",
            "1. The library started with 45 books.\n",
            "2. They then lent out 12 books, leaving them with 45 - 12 = 33 books.\n",
            "3. After that, they received 8 books as donations.\n",
            "4. So, the total number of books they have now is 33 + 8 = 41 books.\n"
          ]
        }
      ]
    },
    {
      "cell_type": "markdown",
      "source": [
        "##Question 2: Prompt-chaining\n",
        "\n",
        "Develop a prompt-chaining system that generates a short story based on user input. Thesystem should use multiple prompts in sequence, with each prompt building on the output of theprevious one.\n",
        "\n",
        "Task:\n",
        "\n",
        "● Create a series of at least 3 prompts that will be chained together.\n",
        "\n",
        "● The first prompt should ask for a genre and main character.\n",
        "\n",
        "● Subsequent prompts should build on previous outputs to develop the plot and\n",
        "conclusion.\n",
        "\n",
        "● Implement the chaining logic to pass information between prompts.\n",
        "\n",
        "● Allow the user to input the initial genre and main character.\n",
        "\n",
        "● Output the final story generated through the chain.\n"
      ],
      "metadata": {
        "id": "nrx4l8lNBQ3t"
      }
    },
    {
      "cell_type": "code",
      "source": [
        "# System message setup\n",
        "system_message = SystemMessage(content=\"You are a creative assistant for generating short stories.\")\n",
        "\n",
        "# Prompt 1: Get genre and main character\n",
        "initial_prompt = HumanMessage(content=\"Provide a genre and a main character for a short story.\")\n",
        "\n",
        "# Create the chain and get the genre and character\n",
        "chain1 = LLMChain(llm=llm, prompt=system_message + initial_prompt)\n",
        "response1 = chain1.run({})\n",
        "\n",
        "# Example response\n",
        "response1 = \"Fantasy, The Lost City\"\n",
        "print(f\"Genre: {genre}, \\nCharacter: {character}\")\n",
        "\n",
        "# Prompt 2: Develop the plot based on the genre and character\n",
        "plot_prompt = HumanMessage(content=f\"Based on the genre '{genre}' and the main character '{character}', write a brief plot outline for a short story.\")\n",
        "\n",
        "# Create the chain and get the plot\n",
        "chain2 = LLMChain(llm=llm, prompt=system_message + plot_prompt)\n",
        "plot = chain2.run({})\n",
        "\n",
        "# Prompt 3: Write the conclusion based on the plot\n",
        "conclusion_prompt = HumanMessage(content=f\"Based on the plot outline provided, write the conclusion for the short story.\")\n",
        "\n",
        "# Create the chain and get the conclusion\n",
        "chain3 = LLMChain(llm=llm, prompt=system_message + conclusion_prompt)\n",
        "conclusion = chain3.run({})\n",
        "\n",
        "# Combine all parts to form the final story\n",
        "final_story = f\"Genre: {genre}\\nMain Character: {character}\\nPlot: {plot}\\nConclusion: {conclusion}\"\n",
        "print(final_story)\n"
      ],
      "metadata": {
        "colab": {
          "base_uri": "https://localhost:8080/"
        },
        "id": "ZqfFk3q29Pi2",
        "outputId": "375bd368-57cf-47dc-fa5a-c2870f9dd300"
      },
      "execution_count": 22,
      "outputs": [
        {
          "output_type": "stream",
          "name": "stdout",
          "text": [
            "Genre: Fantasy, \n",
            "Character: The Lost City\n",
            "Genre: Fantasy\n",
            "Main Character: The Lost City\n",
            "Plot: Title: The Last Light of Elysara\n",
            "\n",
            "Genre: Fantasy\n",
            "\n",
            "Main Character: The Lost City of Elysara\n",
            "\n",
            "Plot Outline:\n",
            "\n",
            "In the mystical realm of Eldareth, the once-prosperous city of Elysara mysteriously vanished, leaving behind only ruins and whispers of its glory. Elysara, known as the \"Jewel of Eldareth,\" was a city of enchanting beauty, filled with wondrous magic and advanced technologies, co-existing harmoniously under the rule of the wise and just King Orion. However, one calamitous night, Elysara and its inhabitants vanished without a trace, leaving the rest of Eldareth in mourning and confusion.\n",
            "\n",
            "Centuries have passed, and Elysara remains a lost city, its memory slowly fading from the realm's consciousness. Our protagonist, a young and curious scholar named Elara, becomes fascinated by the legends of Elysara and embarks on a perilous journey to uncover the truth behind its disappearance. Guided by an ancient map and a cryptic prophecy, Elara faces treacherous terrains, mythical creatures, and magical enigmas to reveal the city's fate.\n",
            "\n",
            "As Elara delves deeper into the mystery, she discovers that Elysara was the victim of a powerful curse cast by a vengeful sorceress, banishing the city and its inhabitants to a realm between dimensions. The curse can only be lifted by finding the \"Last Light of Elysara,\" a mythical artifact said to hold the power of the city's ancient magic.\n",
            "\n",
            "In a race against time and a dark order seeking the artifact for nefarious purposes, Elara manages to locate the Last Light within the ruins of Elysara. As she holds the artifact, a surge of energy overwhelms her, transporting her to the lost city and into the presence of King Orion himself. Orion reveals that Elara is the prophesized \"Light of Memory,\" destined to restore Elysara and its people to their rightful place in Eldareth.\n",
            "\n",
            "With a heavy heart, Elara realizes she must make a choice: restore Elysara, separating it once more from Eldareth and its people, or leave it lost, allowing the realm to move forward without the risk of the sorceress's curse returning. In a bittersweet decision, Elara chooses to return the Last Light to its resting place, accepting that the lost city of Elysara must remain a memory, a beacon of hope and wisdom for the realm of Eldareth.\n",
            "\n",
            "Upon her return, Elara is hailed as a hero for her bravery and wisdom. She dedicates her life to preserving the history and knowledge of Elysara, ensuring its legacy lives on in the hearts and minds of those in Eldareth. The lost city of Elysara remains a symbol of hope and wonder, its tale passed down through generations as a reminder of the magic, mystery, and resilience that reside within the realm.\n",
            "Conclusion: Plot Outline: The protagonist, a talented violinist, has been practicing for a major competition when they suddenly lose their hearing. Despite this setback, they decide to perform in the competition using their remaining senses and past memories of music to guide them.\n",
            "\n",
            "Conclusion:\n",
            "\n",
            "As the day of the competition arrived, the protagonist felt a mix of anxiety and determination. They walked onto the stage, feeling the familiar weight of the violin in their hands, and took a deep breath. The crowd fell silent as they raised their bow, ready to begin.\n",
            "\n",
            "In that moment, it was as if the music from their past performances flooded back to them. They could feel the rhythm in their heartbeat, the melody echoing in the vibrations of the strings beneath their fingers. Each note was a memory, a story, a piece of their soul that they poured into every movement of the bow.\n",
            "\n",
            "The performance was not perfect, nor was it what anyone expected. But it was real, raw, and filled with an emotion that transcended the need for hearing. When they finished, there was a pause, a breath held by thousands. Then, the audience erupted into applause, a standing ovation that seemed to shake the very foundations of the concert hall.\n",
            "\n",
            "In that moment, the protagonist realized that music was not just about hearing. It was about feeling, about expressing, about connecting. And though they might have lost their hearing, they had gained something far more valuable - the understanding that they were not defined by their ability to hear, but by their ability to create, to inspire, and to touch the hearts of others through their music.\n",
            "\n",
            "And so, they stepped off the stage, not as a violinist who had lost their hearing, but as an artist who had found their voice.\n"
          ]
        }
      ]
    },
    {
      "cell_type": "markdown",
      "source": [
        "##Question 3: Tree-of-Thought Prompting\n",
        "\n",
        "Implement a Tree-of-Thought prompting system to solve a complex problem. The system should\n",
        "explore multiple paths of reasoning and select the most promising one.\n",
        "Task:\n",
        "\n",
        "● Create a function that takes a complex problem as input.\n",
        "\n",
        "● Generate at least 3 different initial approaches to solving the problem.\n",
        "\n",
        "● For each approach, develop 2-3 possible next steps.\n",
        "\n",
        "● Implement a method to evaluate the promise of each path.\n",
        "\n",
        "● Select the most promising path and generate a final solution.\n",
        "\n",
        "● Test your system with the following problem:\n",
        "\n",
        "Problem: \"Design a sustainable urban transportation system for a city of 1 million people.\n",
        "Consider factors such as environmental impact, cost-effectiveness, and accessibility for all\n",
        "residents.\""
      ],
      "metadata": {
        "id": "BeKx6ZyqAd1E"
      }
    },
    {
      "cell_type": "code",
      "source": [
        "# First prompt template\n",
        "first_prompt = PromptTemplate(\n",
        "    input_variables=[\"topic\"],\n",
        "    template=\"Write a short introduction about {topic}.\"\n",
        ")\n",
        "\n",
        "# Second prompt template\n",
        "second_prompt = PromptTemplate(\n",
        "    input_variables=[\"introduction\"],\n",
        "    template=\"Based on this introduction, suggest 3 key points to expand upon: {introduction}\"\n",
        ")\n",
        "\n",
        "# Third prompt template\n",
        "third_prompt = PromptTemplate(\n",
        "    input_variables=[\"key_points\"],\n",
        "    template=\"For each of these key points, provide a brief explanation: {key_points}\"\n",
        ")\n",
        "\n",
        "# Create chains\n",
        "chain_one = LLMChain(llm=llm, prompt=first_prompt)\n",
        "chain_two = LLMChain(llm=llm, prompt=second_prompt)\n",
        "chain_three = LLMChain(llm=llm, prompt=third_prompt)\n",
        "\n",
        "# Create the sequential chain\n",
        "overall_chain = SimpleSequentialChain(\n",
        "    chains=[chain_one, chain_two, chain_three],\n",
        "    verbose=True\n",
        ")\n",
        "\n",
        "# Run the chain\n",
        "topic = \"Design a sustainable urban transportation system for a city of 1 million people.Consider factors such as environmental impact, cost-effectiveness, and accessibility for allresidents\"\n",
        "result = overall_chain.run(topic)\n",
        "\n",
        "print(result)"
      ],
      "metadata": {
        "colab": {
          "base_uri": "https://localhost:8080/"
        },
        "id": "68xOe8eX6Fv7",
        "outputId": "a3b437e1-81d6-4954-b357-c6625a4fce05"
      },
      "execution_count": 12,
      "outputs": [
        {
          "output_type": "stream",
          "name": "stdout",
          "text": [
            "\n",
            "\n",
            "\u001b[1m> Entering new SimpleSequentialChain chain...\u001b[0m\n",
            "\u001b[36;1m\u001b[1;3mDesigning a sustainable urban transportation system for a city of 1 million people is a complex task that requires careful consideration of various factors. The primary goal should be to create a system that minimizes environmental impact, is cost-effective, and provides accessible transportation options for all residents.\n",
            "\n",
            "To achieve these objectives, the transportation system must prioritize the use of clean energy sources, such as electric or hybrid vehicles, and promote active transportation modes like walking and cycling. Public transportation, such as buses and trains, should also play a significant role in reducing private vehicle ownership and traffic congestion.\n",
            "\n",
            "Cost-effectiveness can be achieved by investing in infrastructure that has a long lifespan, requires minimal maintenance, and can accommodate multiple transportation modes. Additionally, implementing demand management strategies, such as congestion pricing and car-sharing programs, can help reduce traffic congestion and optimize the use of existing transportation infrastructure.\n",
            "\n",
            "Accessibility is critical to ensuring that all residents, regardless of their age, income, or ability, have access to reliable and affordable transportation options. This can be achieved by designing transportation systems that prioritize pedestrian and cyclist safety, providing accessible public transportation options, and ensuring that transportation infrastructure is equitably distributed throughout the city.\n",
            "\n",
            "In summary, designing a sustainable urban transportation system for a city of 1 million people requires a holistic approach that considers environmental impact, cost-effectiveness, and accessibility for all residents. By prioritizing clean energy sources, promoting active transportation modes, investing in sustainable infrastructure, and ensuring equitable access, it is possible to create a transportation system that meets the needs of all city residents while minimizing environmental impact and promoting economic efficiency.\u001b[0m\n",
            "\u001b[33;1m\u001b[1;3m1. Prioritizing clean energy sources: Designing a sustainable urban transportation system requires prioritizing clean energy sources such as electric or hybrid vehicles to minimize environmental impact. This can be achieved by implementing policies that incentivize the use of clean energy vehicles, such as tax credits, subsidies, or exemptions from congestion charges. Additionally, investing in charging infrastructure for electric vehicles can help promote their adoption and usage. Public transportation can also be electrified to reduce emissions and improve air quality, making the city healthier and more sustainable.\n",
            "\n",
            "2. Promoting active transportation modes: Encouraging active transportation modes like walking and cycling is essential to creating a sustainable urban transportation system. This can be achieved by designing streets and public spaces that prioritize pedestrian and cyclist safety, providing dedicated cycling lanes, and creating pedestrian-friendly zones. Additionally, implementing policies that promote active transportation, such as car-free days or bike-sharing programs, can help reduce private vehicle ownership and traffic congestion. Active transportation not only reduces emissions but also promotes physical activity, improving public health and well-being.\n",
            "\n",
            "3. Ensuring equitable access: Accessibility is critical to ensuring that all residents, regardless of their age, income, or ability, have access to reliable and affordable transportation options. This can be achieved by designing transportation systems that prioritize pedestrian and cyclist safety, providing accessible public transportation options, and ensuring that transportation infrastructure is equitably distributed throughout the city. This may include implementing policies that prioritize transportation access in low-income communities, providing subsidies for public transportation, and designing transportation systems that are accessible to people with disabilities. Additionally, promoting transportation options that are affordable and convenient can help reduce transportation costs for low-income residents, improving their economic mobility and quality of life.\u001b[0m\n",
            "\u001b[38;5;200m\u001b[1;3m4. Integrating land use and transportation planning: A sustainable urban transportation system requires integrating land use and transportation planning to reduce the need for long-distance travel and promote compact, mixed-use development. This can be achieved by designing transportation systems that connect residential, commercial, and recreational areas, and by promoting transit-oriented development that clusters housing, employment, and amenities around transit stations. Integrating land use and transportation planning can reduce transportation costs, promote economic development, and improve accessibility to jobs, education, and services.\n",
            "5. Implementing intelligent transportation systems: Intelligent transportation systems (ITS) use advanced technologies such as sensors, cameras, and data analytics to improve the safety, efficiency, and sustainability of transportation systems. ITS can be used to manage traffic flow, reduce congestion, and improve public transportation efficiency. Additionally, ITS can be used to promote alternative modes of transportation, such as carpooling and ridesharing, and to provide real-time information to travelers, reducing wait times and improving the overall travel experience. Implementing ITS can help reduce emissions, improve traffic safety, and promote sustainable transportation options.\n",
            "6. Encouraging shared mobility: Shared mobility options such as car-sharing, bike-sharing, and ride-sharing can help reduce private vehicle ownership, traffic congestion, and emissions. Shared mobility options can provide affordable and convenient transportation options, particularly in areas with limited public transportation options. Additionally, shared mobility options can help reduce transportation costs for low-income residents and promote sustainable transportation options. Implementing policies that promote shared mobility, such as providing incentives for shared mobility providers, integrating shared mobility options into public transportation systems, and designing streets and public spaces that prioritize shared mobility, can help promote sustainable transportation options and reduce emissions.\u001b[0m\n",
            "\n",
            "\u001b[1m> Finished chain.\u001b[0m\n",
            "4. Integrating land use and transportation planning: A sustainable urban transportation system requires integrating land use and transportation planning to reduce the need for long-distance travel and promote compact, mixed-use development. This can be achieved by designing transportation systems that connect residential, commercial, and recreational areas, and by promoting transit-oriented development that clusters housing, employment, and amenities around transit stations. Integrating land use and transportation planning can reduce transportation costs, promote economic development, and improve accessibility to jobs, education, and services.\n",
            "5. Implementing intelligent transportation systems: Intelligent transportation systems (ITS) use advanced technologies such as sensors, cameras, and data analytics to improve the safety, efficiency, and sustainability of transportation systems. ITS can be used to manage traffic flow, reduce congestion, and improve public transportation efficiency. Additionally, ITS can be used to promote alternative modes of transportation, such as carpooling and ridesharing, and to provide real-time information to travelers, reducing wait times and improving the overall travel experience. Implementing ITS can help reduce emissions, improve traffic safety, and promote sustainable transportation options.\n",
            "6. Encouraging shared mobility: Shared mobility options such as car-sharing, bike-sharing, and ride-sharing can help reduce private vehicle ownership, traffic congestion, and emissions. Shared mobility options can provide affordable and convenient transportation options, particularly in areas with limited public transportation options. Additionally, shared mobility options can help reduce transportation costs for low-income residents and promote sustainable transportation options. Implementing policies that promote shared mobility, such as providing incentives for shared mobility providers, integrating shared mobility options into public transportation systems, and designing streets and public spaces that prioritize shared mobility, can help promote sustainable transportation options and reduce emissions.\n"
          ]
        }
      ]
    },
    {
      "cell_type": "code",
      "source": [
        "# First prompt template\n",
        "first_prompt = PromptTemplate(\n",
        "    input_variables=[\"topic\"],\n",
        "    template=\"Write a short introduction about {topic}.\"\n",
        ")\n",
        "\n",
        "# Second prompt template\n",
        "second_prompt = PromptTemplate(\n",
        "    input_variables=[\"introduction\"],\n",
        "    template=\"Based on this introduction, suggest 3 key points to expand upon: {introduction}\"\n",
        ")\n",
        "\n",
        "# Third prompt template\n",
        "third_prompt = PromptTemplate(\n",
        "    input_variables=[\"key_points\"],\n",
        "    template=\"For each of these key points, provide a brief explanation: {key_points}\"\n",
        ")\n",
        "\n",
        "# Create chains\n",
        "chain_one = LLMChain(llm=llm, prompt=first_prompt)\n",
        "chain_two = LLMChain(llm=llm, prompt=second_prompt)\n",
        "chain_three = LLMChain(llm=llm, prompt=third_prompt)\n",
        "\n",
        "# Create the sequential chain\n",
        "overall_chain = SimpleSequentialChain(\n",
        "    chains=[chain_one, chain_two, chain_three],\n",
        "    verbose=False\n",
        ")\n",
        "\n",
        "# Run the chain\n",
        "topic = \"Design a sustainable urban transportation system for a city of 1 million people.Consider factors such as environmental impact, cost-effectiveness, and accessibility for allresidents\"\n",
        "result = overall_chain.run(topic)\n",
        "\n",
        "print(result)"
      ],
      "metadata": {
        "colab": {
          "base_uri": "https://localhost:8080/"
        },
        "id": "piCweYTHAHcU",
        "outputId": "bb78099f-8346-445d-d5b3-0200dfb3b370"
      },
      "execution_count": 23,
      "outputs": [
        {
          "output_type": "stream",
          "name": "stdout",
          "text": [
            "1. Prioritizing Renewable Energy and Active Transportation: This means that the transportation system should focus on using energy sources that are sustainable and have a minimal impact on the environment. Renewable energy sources like electric or hydrogen-powered vehicles produce fewer greenhouse gas emissions and air pollution compared to traditional gasoline-powered vehicles. Promoting active transportation modes like walking and cycling also has environmental benefits, as it does not require the use of fossil fuels and can help reduce traffic congestion. The city can support these modes of transportation by investing in infrastructure such as bike lanes, pedestrian-friendly streets, and charging stations for electric vehicles. Additionally, the city can provide financial incentives such as tax credits or subsidies to encourage the use of renewable energy vehicles.\n",
            "2. Implementing Smart Traffic Management Systems: This refers to the use of technology and data to improve the efficiency and sustainability of the transportation system. Real-time traffic data and intelligent transportation systems can help reduce traffic congestion, air pollution, and carbon emissions by optimizing traffic flow. The city can also promote carpooling and ridesharing programs, which can reduce the number of cars on the road and lower carbon emissions. Dedicated lanes for public transportation can also help reduce traffic congestion and promote the use of public transportation.\n",
            "3. Integrating Transportation with Land-Use Planning and Urban Design: This means that the transportation system should be designed in a way that it is easily accessible for all residents, regardless of their location or socio-economic status. Compact, mixed-use developments can minimize the need for long-distance travel and promote active transportation modes. The city can incentivize compact development through zoning regulations, density bonuses, or other policies. Additionally, the city can prioritize affordable housing near public transportation hubs to ensure that low-income individuals have access to public transportation options. Public transportation options should be wheelchair-accessible and cover all areas of the city, including underserved neighborhoods. The city can also invest in infrastructure to support these modes of transportation, such as accessible sidewalks, pedestrian bridges, and accessible public transportation vehicles.\n"
          ]
        }
      ]
    },
    {
      "cell_type": "code",
      "source": [],
      "metadata": {
        "id": "DYukXynCEIsX"
      },
      "execution_count": null,
      "outputs": []
    }
  ]
}